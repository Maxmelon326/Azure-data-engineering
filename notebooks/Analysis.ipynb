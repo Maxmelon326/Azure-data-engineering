{
  "cells": [
    {
      "cell_type": "code",
      "source": [
        "# Python cell\n",
        "file_path = \"abfss://netflixanalysis@netflixanalysis.dfs.core.windows.net/netflix_movies_detailed_up_to_2025.csv\"\n",
        "\n",
        "df_movies = spark.read.option(\"header\", True).option(\"inferSchema\", True).csv(file_path)\n",
        "\n",
        "# Show first few rows\n",
        "df_movies.head()"
      ],
      "outputs": [
        {
          "output_type": "display_data",
          "data": {
            "application/vnd.livy.statement-meta+json": {
              "spark_pool": "sparknetflix",
              "statement_id": 2,
              "statement_ids": [
                2
              ],
              "state": "finished",
              "livy_statement_state": "available",
              "spark_jobs": null,
              "session_id": "10",
              "normalized_state": "finished",
              "queued_time": "2025-06-20T07:56:33.0501585Z",
              "session_start_time": null,
              "execution_start_time": "2025-06-20T07:57:42.7893129Z",
              "execution_finish_time": "2025-06-20T07:58:14.2800226Z",
              "parent_msg_id": "d6c9338d-4d8f-4166-b2b5-f7be0519a582"
            },
            "text/plain": "StatementMeta(sparknetflix, 10, 2, Finished, Available, Finished)"
          },
          "metadata": {}
        },
        {
          "output_type": "execute_result",
          "execution_count": 5,
          "data": {
            "text/plain": "Row(show_id='10192', type='Movie', title='Shrek Forever After', director='Mike Mitchell', cast='Mike Myers, Eddie Murphy, Cameron Diaz, Antonio Banderas, Walt Dohrn', country='United States of America', date_added='2010/5/16', release_year='2010', rating='6.38', duration=None, genres='Comedy, Adventure, Fantasy, Animation, Family', language='en', description=\"A bored and domesticated Shrek pacts with deal-maker Rumpelstiltskin to get back to feeling like a real ogre again, but when he's duped and sent to a twisted version of Far Far Away—where Rumpelstiltskin is king, ogres are hunted, and he and Fiona have never met—he sets out to restore his world and reclaim his true love.\", popularity='203.893', vote_count='7449', vote_average='6.38', budget='165000000', revenue='752600867')"
          },
          "metadata": {}
        }
      ],
      "execution_count": 149,
      "metadata": {}
    },
    {
      "cell_type": "code",
      "source": [
        "# Python cell\n",
        "file_path = \"abfss://netflixanalysis@netflixanalysis.dfs.core.windows.net/netflix_tv_shows_detailed_up_to_2025.csv\"\n",
        "\n",
        "df_tv = spark.read.option(\"header\", True).option(\"enforceSchema\", True).csv(file_path)\n",
        "\n",
        "# Show first few rows\n",
        "df_tv.head()"
      ],
      "outputs": [
        {
          "output_type": "display_data",
          "data": {
            "application/vnd.livy.statement-meta+json": {
              "spark_pool": "sparknetflix",
              "statement_id": 4,
              "statement_ids": [
                4
              ],
              "state": "finished",
              "livy_statement_state": "available",
              "spark_jobs": null,
              "session_id": "10",
              "normalized_state": "finished",
              "queued_time": "2025-06-20T07:58:37.114511Z",
              "session_start_time": null,
              "execution_start_time": "2025-06-20T07:58:37.1172166Z",
              "execution_finish_time": "2025-06-20T07:58:44.1900752Z",
              "parent_msg_id": "7f594781-baea-4a71-87ca-c9fba9c2c414"
            },
            "text/plain": "StatementMeta(sparknetflix, 10, 4, Finished, Available, Finished)"
          },
          "metadata": {}
        },
        {
          "output_type": "execute_result",
          "execution_count": 9,
          "data": {
            "text/plain": "Row(show_id='32415', type='TV Show', title='Conan', director=None, cast=\"Conan O'Brien, Andy Richter\", country='United States of America', date_added='2010/11/8', release_year='2010', rating='7.035', duration='1 Seasons', genres='Talk, Comedy, News', language='en', description=\"A late night television talk show hosted by  Conan O'Brien.\", popularity='1670.58', vote_count='229', vote_average='7.035')"
          },
          "metadata": {}
        }
      ],
      "execution_count": 151,
      "metadata": {}
    },
    {
      "cell_type": "code",
      "source": [
        "from pyspark.sql import functions as F\n",
        "\n",
        "# 选取两个表共同字段（不包括 budget、revenue 等电影独有字段）\n",
        "common_cols = [\n",
        "    \"show_id\",\"country\", \"rating\", \"duration\",\n",
        "    \"genres\", \"language\",\"release_year\",\"date_added\",\"popularity\"\n",
        "]\n",
        "\n",
        "# 给两个表打标签列\n",
        "df_movies_labeled = df_movies.select(common_cols).withColumn(\"platform_type\", F.lit(\"Movie\"))\n",
        "df_tv_labeled = df_tv.select(common_cols).withColumn(\"platform_type\", F.lit(\"TV Show\"))\n",
        "\n",
        "# 合并两个表\n",
        "df_all = df_movies_labeled.unionByName(df_tv_labeled)\n"
      ],
      "outputs": [
        {
          "output_type": "display_data",
          "data": {
            "application/vnd.livy.statement-meta+json": {
              "spark_pool": "sparknetflix",
              "statement_id": 5,
              "statement_ids": [
                5
              ],
              "state": "finished",
              "livy_statement_state": "available",
              "spark_jobs": null,
              "session_id": "10",
              "normalized_state": "finished",
              "queued_time": "2025-06-20T07:58:47.9847917Z",
              "session_start_time": null,
              "execution_start_time": "2025-06-20T07:58:47.9867422Z",
              "execution_finish_time": "2025-06-20T07:58:48.2570799Z",
              "parent_msg_id": "b671dbe0-5b71-4408-9ff8-70ec81460a30"
            },
            "text/plain": "StatementMeta(sparknetflix, 10, 5, Finished, Available, Finished)"
          },
          "metadata": {}
        }
      ],
      "execution_count": 152,
      "metadata": {}
    },
    {
      "cell_type": "code",
      "source": [
        "df_all.head()"
      ],
      "outputs": [
        {
          "output_type": "display_data",
          "data": {
            "application/vnd.livy.statement-meta+json": {
              "spark_pool": "sparknetflix",
              "statement_id": 6,
              "statement_ids": [
                6
              ],
              "state": "finished",
              "livy_statement_state": "available",
              "spark_jobs": null,
              "session_id": "10",
              "normalized_state": "finished",
              "queued_time": "2025-06-20T07:58:54.2317033Z",
              "session_start_time": null,
              "execution_start_time": "2025-06-20T07:58:54.2341559Z",
              "execution_finish_time": "2025-06-20T07:58:54.9151633Z",
              "parent_msg_id": "65e55731-3d7f-41cc-8d5e-c9972b1d8707"
            },
            "text/plain": "StatementMeta(sparknetflix, 10, 6, Finished, Available, Finished)"
          },
          "metadata": {}
        },
        {
          "output_type": "execute_result",
          "execution_count": 13,
          "data": {
            "text/plain": "Row(show_id='10192', country='United States of America', rating='6.38', duration=None, genres='Comedy, Adventure, Fantasy, Animation, Family', language='en', release_year='2010', date_added='2010/5/16', popularity='203.893', platform_type='Movie')"
          },
          "metadata": {}
        }
      ],
      "execution_count": 153,
      "metadata": {}
    },
    {
      "cell_type": "code",
      "source": [
        "from pyspark.sql import functions as F\n",
        "\n",
        "df_clean = df_all \\\n",
        "    .withColumn(\"rating_clean\", F.col(\"rating\").cast(\"float\")) \\\n",
        "    .withColumn(\"popularity_clean\", F.col(\"popularity\").cast(\"float\")) \\\n",
        "    .withColumn(\"release_year_clean\", F.col(\"release_year\").cast(\"int\")) \\\n",
        "    .filter(\n",
        "        F.col(\"rating_clean\").isNotNull() &\n",
        "        F.col(\"popularity_clean\").isNotNull() &\n",
        "        F.col(\"release_year_clean\").isNotNull()\n",
        "    ) \\\n",
        "    .withColumn(\"rating\", F.col(\"rating_clean\")) \\\n",
        "    .withColumn(\"popularity\", F.col(\"popularity_clean\")) \\\n",
        "    .withColumn(\"release_year\", F.col(\"release_year_clean\")) \\\n",
        "    .drop(\"rating_clean\", \"popularity_clean\", \"release_year_clean\") \\\n",
        "    .withColumn(\"country\", F.regexp_replace(F.col(\"country\"), r'[\\r\\n]+', ' ')) \\\n",
        "    .filter(F.col(\"country\").isNotNull()) \\\n",
        "    .filter(F.col(\"language\").isNotNull()) \\\n",
        "    .filter(F.col(\"platform_type\").isNotNull()) \\\n",
        "    .select(\"show_id\", \"country\", \"rating\", \"duration\", \"genres\", \"language\", \"release_year\", \"date_added\", \"popularity\", \"platform_type\")\n"
      ],
      "outputs": [
        {
          "output_type": "display_data",
          "data": {
            "application/vnd.livy.statement-meta+json": {
              "spark_pool": "sparknetflix",
              "statement_id": 12,
              "statement_ids": [
                12
              ],
              "state": "finished",
              "livy_statement_state": "available",
              "spark_jobs": null,
              "session_id": "10",
              "normalized_state": "finished",
              "queued_time": "2025-06-20T08:15:52.3063645Z",
              "session_start_time": null,
              "execution_start_time": "2025-06-20T08:15:52.3084223Z",
              "execution_finish_time": "2025-06-20T08:15:52.5710268Z",
              "parent_msg_id": "0984f523-32af-4865-a33a-5fe06574d8cb"
            },
            "text/plain": "StatementMeta(sparknetflix, 10, 12, Finished, Available, Finished)"
          },
          "metadata": {}
        }
      ],
      "execution_count": 159,
      "metadata": {}
    },
    {
      "cell_type": "code",
      "source": [
        "# 保存为 CSV，避免换行冲突并正确转义\n",
        "df_clean.write \\\n",
        "    .mode(\"overwrite\") \\\n",
        "    .option(\"header\", True) \\\n",
        "    .option(\"quote\", '\"') \\\n",
        "    .option(\"escape\", '\"') \\\n",
        "    .csv(\"abfss://netflixanalysis@netflixanalysis.dfs.core.windows.net/synapse/staging/a1_csv/\")"
      ],
      "outputs": [
        {
          "output_type": "display_data",
          "data": {
            "application/vnd.livy.statement-meta+json": {
              "spark_pool": "sparknetflix",
              "statement_id": 13,
              "statement_ids": [
                13
              ],
              "state": "finished",
              "livy_statement_state": "available",
              "spark_jobs": null,
              "session_id": "10",
              "normalized_state": "finished",
              "queued_time": "2025-06-20T08:15:54.6661398Z",
              "session_start_time": null,
              "execution_start_time": "2025-06-20T08:15:54.6683616Z",
              "execution_finish_time": "2025-06-20T08:16:03.5511988Z",
              "parent_msg_id": "a5ba315a-5ec9-47ed-86d0-11e579346426"
            },
            "text/plain": "StatementMeta(sparknetflix, 10, 13, Finished, Available, Finished)"
          },
          "metadata": {}
        }
      ],
      "execution_count": 160,
      "metadata": {}
    }
  ],
  "metadata": {
    "language_info": {
      "name": "python"
    },
    "kernelspec": {
      "name": "synapse_pyspark",
      "language": "Python",
      "display_name": "Synapse PySpark"
    },
    "kernel_info": {
      "name": "synapse_pyspark"
    },
    "description": null,
    "save_output": true,
    "synapse_widget": {
      "version": "0.1",
      "state": {}
    }
  },
  "nbformat": 4,
  "nbformat_minor": 2
}